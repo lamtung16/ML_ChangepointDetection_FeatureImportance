{
 "cells": [
  {
   "cell_type": "code",
   "execution_count": 1,
   "metadata": {},
   "outputs": [],
   "source": [
    "import pandas as pd\n",
    "import os"
   ]
  },
  {
   "cell_type": "code",
   "execution_count": 2,
   "metadata": {},
   "outputs": [],
   "source": [
    "folder_path = 'data'\n",
    "datasets = [name for name in os.listdir(folder_path) if os.path.isdir(os.path.join(folder_path, name))] "
   ]
  },
  {
   "cell_type": "code",
   "execution_count": 3,
   "metadata": {},
   "outputs": [],
   "source": [
    "for dataset in datasets:\n",
    "    # Load the CSV files into DataFrames\n",
    "    stat_df = pd.read_csv('stat/feature_importance_' + dataset + '.csv')\n",
    "    feature_df = pd.read_csv('data/' + dataset + '/features.csv').iloc[:, :21]\n",
    "\n",
    "    # Sort the features based on Mean Importance\n",
    "    sorted_features = stat_df.sort_values(by='Mean Importance', ascending=False)['Feature']\n",
    "\n",
    "    # Create a dictionary to map feature names to their positions in the sorted list\n",
    "    feature_order = {feature: i for i, feature in enumerate(sorted_features)}\n",
    "\n",
    "    # Get the columns in feature_df\n",
    "    columns = feature_df.columns\n",
    "\n",
    "    # Reorder the columns based on feature_order\n",
    "    sorted_columns = ['sequenceID'] + sorted(columns[1:], key=lambda col: feature_order.get(col, float('inf')))\n",
    "\n",
    "    # Reorder feature_df columns\n",
    "    feature_df = feature_df[sorted_columns]\n",
    "\n",
    "    # rename\n",
    "    new_column_names = ['sequenceID'] + [f'X{i+1}' for i in range(len(feature_df.columns)-1)]\n",
    "    feature_df.columns = new_column_names\n",
    "\n",
    "    # save csv\n",
    "    feature_df.to_csv('data/' + dataset + '/features_sorted.csv', index=False)"
   ]
  }
 ],
 "metadata": {
  "kernelspec": {
   "display_name": "Python 3",
   "language": "python",
   "name": "python3"
  },
  "language_info": {
   "codemirror_mode": {
    "name": "ipython",
    "version": 3
   },
   "file_extension": ".py",
   "mimetype": "text/x-python",
   "name": "python",
   "nbconvert_exporter": "python",
   "pygments_lexer": "ipython3",
   "version": "3.10.11"
  }
 },
 "nbformat": 4,
 "nbformat_minor": 2
}
