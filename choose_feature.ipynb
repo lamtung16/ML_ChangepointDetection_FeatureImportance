{
 "cells": [
  {
   "cell_type": "code",
   "execution_count": 1,
   "metadata": {},
   "outputs": [],
   "source": [
    "import pandas as pd\n",
    "import os"
   ]
  },
  {
   "cell_type": "code",
   "execution_count": 2,
   "metadata": {},
   "outputs": [],
   "source": [
    "folder_path = 'data'\n",
    "datasets = [name for name in os.listdir(folder_path) if os.path.isdir(os.path.join(folder_path, name))] "
   ]
  },
  {
   "cell_type": "code",
   "execution_count": 3,
   "metadata": {},
   "outputs": [
    {
     "name": "stdout",
     "output_type": "stream",
     "text": [
      " 1. ATAC_JV_adipose          : 6\n",
      " 2. CTCF_TDH_ENCODE          : 5\n",
      " 3. detailed                 : 2\n",
      " 4. H3K27ac-H3K4me3_TDHAM_BP : 5\n",
      " 5. H3K27ac_TDH_some         : 6\n",
      " 6. H3K27me3_RL_cancer       : 6\n",
      " 7. H3K27me3_TDH_some        : 5\n",
      " 8. H3K36me3_AM_immune       : 6\n",
      " 9. H3K36me3_TDH_ENCODE      : 4\n",
      "10. H3K36me3_TDH_immune      : 6\n",
      "11. H3K36me3_TDH_other       : 5\n",
      "12. H3K4me1_TDH_BP           : 6\n",
      "13. H3K4me3_PGP_immune       : 6\n",
      "14. H3K4me3_TDH_ENCODE       : 3\n",
      "15. H3K4me3_XJ_immune        : 5\n",
      "16. H3K9me3_TDH_BP           : 4\n",
      "17. systematic               : 2\n"
     ]
    }
   ],
   "source": [
    "threshold = 0.5\n",
    "i = 0\n",
    "for dataset in datasets:\n",
    "    i += 1\n",
    "    stat = pd.read_csv('stat/feature_importance_' + dataset + '.csv').sort_values('Mean Importance', ascending=False)['Mean Importance'].to_numpy()\n",
    "    choosen_feature = 0\n",
    "    total_imptorance = 0\n",
    "    for imp in stat:\n",
    "        if(total_imptorance > threshold):\n",
    "            break\n",
    "        total_imptorance += imp\n",
    "        choosen_feature += 1\n",
    "\n",
    "    print(f'{i:2d}. {dataset:25s}: {choosen_feature}')"
   ]
  }
 ],
 "metadata": {
  "kernelspec": {
   "display_name": "Python 3",
   "language": "python",
   "name": "python3"
  },
  "language_info": {
   "codemirror_mode": {
    "name": "ipython",
    "version": 3
   },
   "file_extension": ".py",
   "mimetype": "text/x-python",
   "name": "python",
   "nbconvert_exporter": "python",
   "pygments_lexer": "ipython3",
   "version": "3.11.9"
  }
 },
 "nbformat": 4,
 "nbformat_minor": 2
}
